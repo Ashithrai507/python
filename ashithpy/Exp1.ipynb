{
 "cells": [
  {
   "cell_type": "code",
   "execution_count": 8,
   "id": "c505fd9f",
   "metadata": {},
   "outputs": [
    {
     "name": "stdout",
     "output_type": "stream",
     "text": [
      "Enter the first value:5\n",
      "Enter the second value:8\n",
      "Enter the third value:33\n",
      "Enter the fourth value:9\n",
      "the sorted number are : 33 9 8 5\n"
     ]
    }
   ],
   "source": [
    "a=int(input(\"Enter the first value:\"))\n",
    "b=int(input(\"Enter the second value:\"))\n",
    "c=int(input(\"Enter the third value:\"))\n",
    "d=int(input(\"Enter the fourth value:\"))\n",
    "if a<b: a,b=b,a\n",
    "if a<b: c,d=d,c\n",
    "if a<c: a,c=c,a\n",
    "if b<d: b,d=d,b\n",
    "if b<c: b,c=c,b\n",
    "print(\"the sorted number are :\",a,b,c,d)    "
   ]
  },
  {
   "cell_type": "code",
   "execution_count": null,
   "id": "4dd50b26",
   "metadata": {},
   "outputs": [],
   "source": []
  }
 ],
 "metadata": {
  "kernelspec": {
   "display_name": "Python 3 (ipykernel)",
   "language": "python",
   "name": "python3"
  },
  "language_info": {
   "codemirror_mode": {
    "name": "ipython",
    "version": 3
   },
   "file_extension": ".py",
   "mimetype": "text/x-python",
   "name": "python",
   "nbconvert_exporter": "python",
   "pygments_lexer": "ipython3",
   "version": "3.10.9"
  }
 },
 "nbformat": 4,
 "nbformat_minor": 5
}
