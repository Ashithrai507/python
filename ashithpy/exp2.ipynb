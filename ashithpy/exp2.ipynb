{
 "cells": [
  {
   "cell_type": "code",
   "execution_count": 3,
   "id": "c1b9f68e",
   "metadata": {},
   "outputs": [
    {
     "name": "stdout",
     "output_type": "stream",
     "text": [
      "enter the number of digit:5\n",
      "enter a 5 digit64854\n",
      "6\n",
      "4\n",
      "8\n",
      "5\n",
      "4\n"
     ]
    }
   ],
   "source": [
    "n=int(input('enter the number of digit:'))\n",
    "if n>0:\n",
    "    number=int(input(f\"enter a {n} digit\"))\n",
    "    if number >=10*(n-1):\n",
    "        if number < 10**n:\n",
    "            for i in range(n):\n",
    "                digit=number//(10**(n-1))\n",
    "                print(digit)\n",
    "                number%=10**(n-1)\n",
    "                n-=1\n",
    "    else:\n",
    "        print(f\"please enter a {n} digit number:\")\n",
    "else:\n",
    "    print(f\"please enter a valid number of digit\")\n",
    "                "
   ]
  },
  {
   "cell_type": "code",
   "execution_count": 16,
   "id": "e1faee41",
   "metadata": {},
   "outputs": [
    {
     "name": "stdout",
     "output_type": "stream",
     "text": [
      "-2\n"
     ]
    }
   ],
   "source": [
    "a=2\n",
    "\n",
    "print(~c)"
   ]
  },
  {
   "cell_type": "code",
   "execution_count": 15,
   "id": "2eac919e",
   "metadata": {},
   "outputs": [
    {
     "name": "stdout",
     "output_type": "stream",
     "text": [
      "-0b1011\n"
     ]
    }
   ],
   "source": [
    "print(bin(-11))"
   ]
  },
  {
   "cell_type": "code",
   "execution_count": 21,
   "id": "1b21d5e3",
   "metadata": {},
   "outputs": [
    {
     "name": "stdout",
     "output_type": "stream",
     "text": [
      "2020\n"
     ]
    }
   ],
   "source": [
    "a=1010\n",
    "c=a<<1\n",
    "\n",
    "print(c)"
   ]
  },
  {
   "cell_type": "code",
   "execution_count": 23,
   "id": "737b11f8",
   "metadata": {},
   "outputs": [
    {
     "name": "stdout",
     "output_type": "stream",
     "text": [
      "-6\n"
     ]
    }
   ],
   "source": [
    "a=-12\n",
    "c=a>>1\n",
    "print(c)"
   ]
  },
  {
   "cell_type": "code",
   "execution_count": null,
   "id": "30b4729d",
   "metadata": {},
   "outputs": [],
   "source": []
  }
 ],
 "metadata": {
  "kernelspec": {
   "display_name": "Python 3 (ipykernel)",
   "language": "python",
   "name": "python3"
  },
  "language_info": {
   "codemirror_mode": {
    "name": "ipython",
    "version": 3
   },
   "file_extension": ".py",
   "mimetype": "text/x-python",
   "name": "python",
   "nbconvert_exporter": "python",
   "pygments_lexer": "ipython3",
   "version": "3.10.9"
  }
 },
 "nbformat": 4,
 "nbformat_minor": 5
}
